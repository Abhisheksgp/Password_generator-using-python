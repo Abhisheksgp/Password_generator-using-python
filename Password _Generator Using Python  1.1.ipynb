{
 "cells": [
  {
   "cell_type": "code",
   "execution_count": 2,
   "id": "cc5dcd89",
   "metadata": {},
   "outputs": [],
   "source": [
    "import random"
   ]
  },
  {
   "cell_type": "code",
   "execution_count": 3,
   "id": "ea9ab9d3",
   "metadata": {},
   "outputs": [],
   "source": [
    "letters = ['a', 'b', 'c', 'd', 'e', 'f', 'g', 'h', 'i', 'j', 'k', 'l', 'm', 'n', 'o', 'p', 'q', 'r', 's', 't', 'u', 'v', 'w', 'x', 'y', 'z', 'A', 'B', 'C', 'D', 'E', 'F', 'G', 'H', 'I', 'J', 'K', 'L', 'M', 'N', 'O', 'P', 'Q', 'R', 'S', 'T', 'U', 'V', 'W', 'X', 'Y', 'Z']\n",
    "numbers = ['0', '1', '2', '3', '4', '5', '6', '7', '8', '9']\n",
    "symbols = ['!', '#', '$', '%', '&', '(', ')', '*', '+']"
   ]
  },
  {
   "cell_type": "code",
   "execution_count": 5,
   "id": "79a2b9e3",
   "metadata": {},
   "outputs": [
    {
     "name": "stdout",
     "output_type": "stream",
     "text": [
      "welcome to password Generator!\n",
      "how many letters you want in your password?\n",
      "4\n",
      "how many symbols you want in your password?\n",
      "1\n",
      "how many numbers you want in your password?\n",
      "4\n",
      "lOea*1066\n"
     ]
    }
   ],
   "source": [
    "print(\"welcome to password Generator!\")\n",
    "n_letters=int(input(\"how many letters you want in your password?\\n\"))\n",
    "n_symbols=int(input(\"how many symbols you want in your password?\\n\"))\n",
    "n_numbers=int(input(\"how many numbers you want in your password?\\n\"))\n",
    "password=\"\"\n",
    "for i in range(1,n_letters+1):\n",
    "    char = random.choice(letters)\n",
    "    password += char\n",
    "for i in range(1,n_symbols+1):\n",
    "    char=random.choice(symbols)\n",
    "    password +=char\n",
    "for i in range(1,n_numbers+1):\n",
    "    char = random.choice(numbers)\n",
    "    password += char\n",
    "print(password)  \n",
    "\n"
   ]
  },
  {
   "cell_type": "code",
   "execution_count": null,
   "id": "45f6aef1",
   "metadata": {},
   "outputs": [],
   "source": []
  },
  {
   "cell_type": "code",
   "execution_count": null,
   "id": "013b951e",
   "metadata": {},
   "outputs": [],
   "source": []
  }
 ],
 "metadata": {
  "kernelspec": {
   "display_name": "Python 3 (ipykernel)",
   "language": "python",
   "name": "python3"
  },
  "language_info": {
   "codemirror_mode": {
    "name": "ipython",
    "version": 3
   },
   "file_extension": ".py",
   "mimetype": "text/x-python",
   "name": "python",
   "nbconvert_exporter": "python",
   "pygments_lexer": "ipython3",
   "version": "3.11.5"
  }
 },
 "nbformat": 4,
 "nbformat_minor": 5
}
